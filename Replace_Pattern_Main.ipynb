{
 "cells": [
  {
   "cell_type": "code",
   "execution_count": 76,
   "metadata": {},
   "outputs": [],
   "source": [
    "import re"
   ]
  },
  {
   "cell_type": "code",
   "execution_count": 80,
   "metadata": {},
   "outputs": [
    {
     "data": {
      "text/plain": [
       "['lorem',\n",
       " 'ipsum',\n",
       " 'dolor',\n",
       " 'fleft',\n",
       " 'nec',\n",
       " 'pellentesque',\n",
       " 'eu',\n",
       " 'pretium',\n",
       " 'quis',\n",
       " 'sem',\n",
       " 'nulla',\n",
       " 'consequat',\n",
       " 'massa',\n",
       " 'quis']"
      ]
     },
     "execution_count": 80,
     "metadata": {},
     "output_type": "execute_result"
    }
   ],
   "source": [
    "#I want user input prompt... etc and to join phrases at the end\n",
    "phrase=(\"lorem\",\"ipsum\",\"dolor\", \"fright\", \"nec\",\"pellentesque\",\"eu\",\n",
    "         \"pretium\",\"quis\",\"sem\",\"nulla\",\"consequat\",\"massa\",\"quis\",)\n",
    "\n",
    "def replace_right(phrase):\n",
    "    phrase=list(phrase)\n",
    "    for i in range(len(phrase)):\n",
    "        if re.search(r\"right\",phrase[i]):\n",
    "           phrase[i]=re.sub(r\"right\",\"left\",phrase[i])\n",
    "    return phrase\n",
    "replace_right(phrase)"
   ]
  },
  {
   "cell_type": "code",
   "execution_count": null,
   "metadata": {},
   "outputs": [],
   "source": []
  },
  {
   "cell_type": "code",
   "execution_count": null,
   "metadata": {},
   "outputs": [],
   "source": []
  },
  {
   "cell_type": "code",
   "execution_count": null,
   "metadata": {},
   "outputs": [],
   "source": []
  },
  {
   "cell_type": "code",
   "execution_count": null,
   "metadata": {},
   "outputs": [],
   "source": []
  }
 ],
 "metadata": {
  "kernelspec": {
   "display_name": "Python 2",
   "language": "python",
   "name": "python2"
  },
  "language_info": {
   "codemirror_mode": {
    "name": "ipython",
    "version": 2
   },
   "file_extension": ".py",
   "mimetype": "text/x-python",
   "name": "python",
   "nbconvert_exporter": "python",
   "pygments_lexer": "ipython2",
   "version": "2.7.16"
  }
 },
 "nbformat": 4,
 "nbformat_minor": 2
}
